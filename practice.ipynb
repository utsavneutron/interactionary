{
 "metadata": {
  "language_info": {
   "codemirror_mode": {
    "name": "ipython",
    "version": 3
   },
   "file_extension": ".py",
   "mimetype": "text/x-python",
   "name": "python",
   "nbconvert_exporter": "python",
   "pygments_lexer": "ipython3",
   "version": "3.8.3-final"
  },
  "orig_nbformat": 2,
  "kernelspec": {
   "name": "Python 3.8.3 32-bit",
   "display_name": "Python 3.8.3 32-bit",
   "metadata": {
    "interpreter": {
     "hash": "c9ba0c4a5af8269c496dad2a440da0741b8e4cd992915eed58c521d280844af4"
    }
   }
  }
 },
 "nbformat": 4,
 "nbformat_minor": 2,
 "cells": [
  {
   "cell_type": "code",
   "execution_count": null,
   "metadata": {
    "tags": []
   },
   "outputs": [],
   "source": [
    "def mean(**args):\n",
    "    return args\n",
    "\n",
    "print(mean(a=1,b=3,c=4))"
   ]
  },
  {
   "cell_type": "code",
   "execution_count": null,
   "metadata": {},
   "outputs": [],
   "source": [
    "myfile = open(\"fruit.txt\")\n",
    "content = myfile.read()\n",
    "\n",
    "print(content)"
   ]
  },
  {
   "cell_type": "code",
   "execution_count": null,
   "metadata": {},
   "outputs": [],
   "source": [
    "with open(\"veggies.txt\", \"a+\") as myfile:\n",
    "    myfile.write(\"\\nHoe\")\n",
    "    myfile.seek(0)\n",
    "    content = myfile.read()\n",
    "\n",
    "print(content)\n"
   ]
  },
  {
   "cell_type": "code",
   "execution_count": null,
   "metadata": {},
   "outputs": [],
   "source": [
    "\n",
    "import time\n",
    "import os\n",
    "\n",
    "while True:\n",
    "    if os.path.exists(\"fruit.txt\"):\n",
    "        with open(\"fruit.txt\") as myfile:\n",
    "            print(myfile.read())\n",
    "    else:\n",
    "        print(\"File doesn't exist\")\n",
    "\n",
    "    time.sleep(10)\n"
   ]
  },
  {
   "cell_type": "code",
   "execution_count": null,
   "metadata": {},
   "outputs": [],
   "source": [
    "import pandas\n",
    "import time\n",
    "import os\n",
    "\n",
    "while True:\n",
    "    if os.path.exists(\"temps.csv\"):\n",
    "        data = pandas.read_csv(\"temps.csv\")\n",
    "        print(data.sum()[\"st1\"])\n",
    "        break\n",
    "    else:\n",
    "        print(\"File doesn't exist\")\n"
   ]
  }
 ]
}